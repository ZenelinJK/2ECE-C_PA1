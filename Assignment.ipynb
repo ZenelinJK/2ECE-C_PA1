{
 "cells": [
  {
   "cell_type": "markdown",
   "metadata": {},
   "source": [
    "# Alphabet Soup\n"
   ]
  },
  {
   "cell_type": "code",
   "execution_count": 17,
   "metadata": {},
   "outputs": [
    {
     "name": "stdout",
     "output_type": "stream",
     "text": [
      "        abcdeeefghhijklmnoooopqrrsttuuvwxyz\n"
     ]
    }
   ],
   "source": [
    "def alphabet_soup(x):  # Define Function\n",
    "   \n",
    "    x = x.lower() #Making x Case Insensitive. Reason: Capital Letters Will Be Read Separately\n",
    "    \n",
    "    sort = sorted(x) \n",
    "    sortword = \"\"  # Initialize Empty String\n",
    "    \n",
    "    #For Loop to Sort the Word in Alphabetical Order\n",
    "    \n",
    "    for letter in sort:\n",
    "        sortword += letter #Reads Each Letter and Alphabetically Arranges Them by Their Alphabetical Value\n",
    "    return sortword\n",
    "\n",
    "#Input Sentence\n",
    "\n",
    "input = \"The quick brown fox jumps over the lazy dog\"\n",
    "sortie = alphabet_soup(input) #Calls Function alphbet_soup and Inserts Result Into input\n",
    "print(sortie)  #Print Result of Function"
   ]
  },
  {
   "cell_type": "markdown",
   "metadata": {},
   "source": [
    "# Emojis"
   ]
  },
  {
   "cell_type": "code",
   "execution_count": 20,
   "metadata": {},
   "outputs": [
    {
     "name": "stdout",
     "output_type": "stream",
     "text": [
      "I :) and grin, and sometimes :3 whenever I work. I also sometimes get >:( and :(( with work, mostly  눈_눈\n"
     ]
    }
   ],
   "source": [
    "def emoticon(emotion): #Define Function Emoticon\n",
    "    \n",
    "    #Use Dictionary to Replace Words with Appropriate Emoticon\n",
    "    \n",
    "    emote = {\n",
    "        'smile': ':)',\n",
    "        'grin': ':D',\n",
    "        'mad': '>:(',\n",
    "        'sad': ':((',\n",
    "        #Extra Emoticons\n",
    "        'smug': ':3', \n",
    "        'annoyed': ' 눈_눈'\n",
    "    }\n",
    "    \n",
    "    # Replace each word in the sentence using the replacements dictionary\n",
    "    \n",
    "    words = emotion.split() #Split to Separate the Words in the Dictionary and The Sentence\n",
    "    new_words = [emote.get(word, word) for word in words] #Using emote.get(word,word) to Find if the Words in the Dictionary Exists and Replaces those Words\n",
    "    emotive = ' '.join(new_words) #Join to Combine the Split Words Into One Sentence String\n",
    "    \n",
    "    return emotive\n",
    "\n",
    "#Input and Display New Sentence\n",
    "\n",
    "emotional = \"I smile and grin, and sometimes smug whenever I work. I also sometimes get mad and sad with work, mostly annoyed\"\n",
    "print(emoticon(emotional))"
   ]
  },
  {
   "cell_type": "markdown",
   "metadata": {},
   "source": [
    "# Unpacking List"
   ]
  },
  {
   "cell_type": "code",
   "execution_count": 22,
   "metadata": {},
   "outputs": [
    {
     "name": "stdout",
     "output_type": "stream",
     "text": [
      "First: 1\n",
      "Middle: [2, 3, 4]\n",
      "Last: 5\n"
     ]
    }
   ],
   "source": [
    "#Input List and Variables Inside List\n",
    "\n",
    "writeyourcodehere = [1,2,3,4,5]\n",
    "\n",
    "# Unpack List\n",
    "\n",
    "first, *middle, last = writeyourcodehere #The * in *middle is Used to Indicate a Packing Argument, in this case, middle\n",
    "\n",
    "# Print Variables\n",
    "\n",
    "print(\"First:\", first)\n",
    "print(\"Middle:\", middle)\n",
    "print(\"Last:\", last)"
   ]
  },
  {
   "cell_type": "code",
   "execution_count": null,
   "metadata": {},
   "outputs": [],
   "source": []
  }
 ],
 "metadata": {
  "kernelspec": {
   "display_name": "base",
   "language": "python",
   "name": "python3"
  },
  "language_info": {
   "codemirror_mode": {
    "name": "ipython",
    "version": 3
   },
   "file_extension": ".py",
   "mimetype": "text/x-python",
   "name": "python",
   "nbconvert_exporter": "python",
   "pygments_lexer": "ipython3",
   "version": "3.12.4"
  }
 },
 "nbformat": 4,
 "nbformat_minor": 2
}
